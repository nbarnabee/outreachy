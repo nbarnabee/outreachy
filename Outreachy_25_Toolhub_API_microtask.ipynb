{
 "cells": [
  {
   "cell_type": "markdown",
   "id": "3695db7e-8ac8-4c4c-ab27-c929481e74c8",
   "metadata": {},
   "source": [
    "# Microtask: Explore Toolhub Data"
   ]
  },
  {
   "cell_type": "code",
   "execution_count": 1,
   "id": "4436b2ff-08e0-472c-a704-7062ae3be462",
   "metadata": {
    "tags": []
   },
   "outputs": [],
   "source": [
    "import json  # will let us print out the response in a prettier format\n",
    "import requests  # necessary to make API calls\n",
    "import datetime # for Task #2\n",
    "import matplotlib.pyplot as plt # for data visualization\n",
    "\n",
    "# configure API session parameters\n",
    "\n",
    "# user_agent helps identify the request if there is an issue and is best practice\n",
    "REQUEST_LABEL = 'Outreachy 25 Toolhub Microtask'\n",
    "\n",
    "# NOTE: it's considered best practice to include contact info in user agents\n",
    "USER_INFO = 'Phabricator user: NicoleLBee'\n",
    "\n",
    "headers = {'User-Agent': f'{REQUEST_LABEL} - {USER_INFO}'}\n",
    "\n",
    "TOOLS_API_ENDPOINT = \"https://toolhub.wikimedia.org/api/tools\"\n",
    "SEARCH_API_ENDPOINT = \"https://toolhub.wikimedia.org/api/search/tools\"\n",
    "toolname = \"pywikibot\"\n",
    "url = f'{TOOLS_API_ENDPOINT}/{toolname}/'\n",
    "\n",
    "#response = requests.get(url, headers=headers)\n",
    "#if response.status_code == 200:\n",
    "#    json_formatted_response = json.dumps(response.json(), indent=2)\n",
    "#    print(json_formatted_response)\n",
    "#else:\n",
    "#    print(response.status_code)"
   ]
  },
  {
   "cell_type": "markdown",
   "id": "694c307a-d604-4ff5-8770-85c535e9a599",
   "metadata": {},
   "source": [
    "## TASK SET 1"
   ]
  },
  {
   "cell_type": "code",
   "execution_count": 2,
   "id": "1a4ec6f2-2752-48d1-b6c7-328bb4a3755c",
   "metadata": {
    "tags": []
   },
   "outputs": [],
   "source": [
    "# TODO: Write a function that takes a tool name,\n",
    "# and returns all the missing fields as a list.\n",
    "\n",
    "def list_missing_fields(target):\n",
    "    url = f'{TOOLS_API_ENDPOINT}/{target}/'\n",
    "    response = requests.get(url, headers=headers)\n",
    "    if response.status_code == 200:\n",
    "        api_response = response.json()\n",
    "        empty_fields = []\n",
    "        for key in api_response[\"annotations\"]:\n",
    "            # If the tool has not been deprecated, then the absence of a value for \"replaced_by\" is irrelevant\n",
    "            if key == \"replaced_by\" and (api_response[\"deprecated\"] == False or api_response[\"annotations\"][\"deprecated\"] == False):\n",
    "                 continue\n",
    "            # Although the following lines are unwieldy, it was specified that a piece of information is missing only if it is absent in both the Core and Annotations layers, and therefore I need to check both sources.\n",
    "            # This only works if the key exists in both places, so I check for that first.\n",
    "            elif (key in api_response):\n",
    "                    if (api_response[key] == [] or api_response[key] == None) and (api_response[\"annotations\"][key] == [] or api_response[\"annotations\"][key] == None):\n",
    "                        empty_fields.append(key)\n",
    "            elif api_response[\"annotations\"][key] == [] or api_response[\"annotations\"][key] == None:\n",
    "                empty_fields.append(key)\n",
    "        return empty_fields\n",
    "    else:\n",
    "        print(response.status_code)\n"
   ]
  },
  {
   "cell_type": "markdown",
   "id": "b56af2be-c557-45dd-86f1-3fccbb84991e",
   "metadata": {},
   "source": [
    "### TESTING TASK 1:  \n",
    "\n",
    "Examining the output of the fetch request in the example code block, I can see that, within the \"annotations\" dict of pywikibot, the following fields have no value:\n",
    " ```\n",
    "    \"wikidata_qid\": null,\n",
    "    \"replaced_by\": null,\n",
    "    \"for_wikis\": [],\n",
    "    \"icon\": null,\n",
    "    \"tool_type\": null,\n",
    "    \"repository\": null,\n",
    "    \"api_url\": null,\n",
    "    \"user_docs_url\": [],\n",
    "    \"feedback_url\": [],\n",
    "    \"privacy_policy_url\": [],\n",
    "    \"translate_url\": null,\n",
    "    \"bugtracker_url\": null\n",
    "```\n",
    "\n",
    "However, most of these have values contained within the Core tool info.  If I eliminate the ones that are assigned values in the Core tool info, and eliminate \"replaced_by\" (since the tool is not deprecated, the absence of a value here is expected), I'm left with the following empty fields:\n",
    "\n",
    "```\n",
    "wikidata_qid  \n",
    "api_url  \n",
    "feedback_url  \n",
    "privacy_policy_url\n",
    "```\n",
    "\n",
    "So I would expect that calling `list_missing_fields(\"pywikibot\")` would return the following list: `['wikidata_quid', 'api_url', 'feedback_url', 'privacy_policy_url']`"
   ]
  },
  {
   "cell_type": "code",
   "execution_count": 3,
   "id": "58d663e3-86c7-4478-b2ff-10a18032605d",
   "metadata": {},
   "outputs": [
    {
     "data": {
      "text/plain": [
       "['wikidata_qid', 'api_url', 'feedback_url', 'privacy_policy_url']"
      ]
     },
     "execution_count": 3,
     "metadata": {},
     "output_type": "execute_result"
    }
   ],
   "source": [
    "list_missing_fields(\"pywikibot\")"
   ]
  },
  {
   "cell_type": "markdown",
   "id": "9183532e-c1d6-4546-9893-e92e2bf3f9f0",
   "metadata": {},
   "source": [
    "### TESTING TASK 1: PART 2\n",
    "\n",
    "I'll try another: `mm_wikidata_todo`  When I plug the toolname into the code block found at the beginning of the document, I can see that the following fields in the \"annotations\" dict have no value:  \n",
    "\n",
    "```\n",
    "  \"annotations\": {\n",
    "    \"wikidata_qid\": null,\n",
    "    \"replaced_by\": null,\n",
    "    \"for_wikis\": [],\n",
    "    \"icon\": null,\n",
    "    \"api_url\": null,\n",
    "    \"developer_docs_url\": [],\n",
    "    \"user_docs_url\": [],\n",
    "    \"feedback_url\": [],\n",
    "    \"privacy_policy_url\": [],\n",
    "    \"translate_url\": null,\n",
    "  },\n",
    "  ```\n",
    "\n",
    "Checking against the relevant Core values, \n",
    "\n",
    "```\n",
    " \"deprecated\": false,\n",
    "  \"replaced_by\": null,\n",
    "  \"experimental\": false,\n",
    "  \"for_wikis\": [],\n",
    "  \"icon\": null,\n",
    "  \"license\": null,\n",
    "  \"sponsor\": [],\n",
    "  \"available_ui_languages\": [],\n",
    "  \"technology_used\": [],\n",
    "  \"tool_type\": null,\n",
    "  \"api_url\": null,\n",
    "  \"developer_docs_url\": [],\n",
    "  \"user_docs_url\": [],\n",
    "  \"feedback_url\": [],\n",
    "  \"privacy_policy_url\": [],\n",
    "  \"translate_url\": null,\n",
    "  \"bugtracker_url\": null,\n",
    "  ```\n",
    "  \n",
    "  And I can see that the following fields have no value in either Annotations or the Core:\n",
    "  ```\n",
    "  wikidata_qid,\n",
    "  replaced_by,\n",
    "  for_wikis,\n",
    "  icon,\n",
    "  api_url,\n",
    "  developer_docs_url,\n",
    "  user_docs_url,\n",
    "  feedback_url,\n",
    "  privacy_policy_url,\n",
    "  translate_url\n",
    "  ```\n",
    "  \n",
    "  Considering that my function would eliminate `replaced_by`,  I would expect that `list_missing_fields(\"mm_wikidata_todo\")` would return the following list:\n",
    "  \n",
    "  ```\n",
    "  [ 'wikidata_qid',\n",
    "  'for_wikis',\n",
    "  'icon',\n",
    "  'api_url',\n",
    "  'developer_docs_url',\n",
    "  'user_docs_url',\n",
    "  'feedback_url',\n",
    "  'privacy_policy_url',\n",
    "  'translate_url' ]\n",
    "  ```"
   ]
  },
  {
   "cell_type": "code",
   "execution_count": 4,
   "id": "ef04451a-051e-4d87-9907-69fba878894f",
   "metadata": {},
   "outputs": [
    {
     "data": {
      "text/plain": [
       "['wikidata_qid',\n",
       " 'for_wikis',\n",
       " 'icon',\n",
       " 'api_url',\n",
       " 'user_docs_url',\n",
       " 'feedback_url',\n",
       " 'privacy_policy_url',\n",
       " 'translate_url']"
      ]
     },
     "execution_count": 4,
     "metadata": {},
     "output_type": "execute_result"
    }
   ],
   "source": [
    "list_missing_fields(\"mm_wikidata_todo\")"
   ]
  },
  {
   "cell_type": "markdown",
   "id": "e87843a6-ce93-44f8-8101-b91743ad6f73",
   "metadata": {},
   "source": [
    "### **TODO**: Consider all the fields that are editable. ##\n",
    "1. Should they all be considered equally valuable from the point of view of a user searching for a tool to use in their workflows?\n",
    "2. Or a user that is looking for a tool to contribute to? Why or why not?\n",
    "3. Which are, according to you, the three most valuable fields? Which are the least valuable? Explain your reasoning."
   ]
  },
  {
   "cell_type": "markdown",
   "id": "bb3c4550-0c24-40eb-899c-a9ab82887bca",
   "metadata": {},
   "source": [
    "#### Answers\n",
    "\n",
    "1. In my opinion, they would certainly not be equally valuable from the PoV of a user searching for a tool to use.  A user who wants to make use of a tool would be most interested in the context in which the tool would be used (i.e., \"tool_type\") or in documentation pertaining to the tool's use (e.g., \"user_docs_url\").\n",
    "\n",
    "2. On the other hand, a user who was looking to make a contribution would be more interested in fields such as \"repository,\" \"developer_docs_url,\" or \"bug_tracker_url.\"  Users will seek information that will assist them in achieving their goals, so naturally users with different goals (in this case, working *with* a tool vs. working *on* a tool) will be interested in different pieces of information.\n",
    "\n",
    "3. I would like include \"replaced_by\" in both the most *and* least valuable lists, simply because if the tool isn't depreciated, then the value of the field is of no importance whatsoever, but if the tool *is* depreciated, then it is *extremely* important.  (I know I keep banging on about this field.)  But since that feels a bit like cheating, I'll consider \"replaced_by\" a *special* case and list the following:\n",
    "\n",
    "**Most valuable**\n",
    "1. repository: A well-written repository would likely contain information pertaining to the following fields as well: \"developer_docs_url\", \"user_docs_url\", \"feedback_url\", \"deprecated\" and \"bugtracker_url.\"  In this way one entry can cover multiple bases, as it were.  If we had one thing to encourage contributors to this project to look for and add, it would be (in my opinion) a repository.\n",
    "\n",
    "2. deprecated:  This field provides critical information: a non-functional tool is of no use to a user and a contributor's time would be better spent working on the replacement tool\n",
    "\n",
    "3. user_docs_url: What is the use of having access to a tool if you can't figure out how to use it? \n",
    "\n",
    "\n",
    "**Least valuable**\n",
    "1.  icon: This is purely cosmetic and contains no useful information either for a user or a contributor.\n",
    "\n",
    "2.  wikidata_qid: A string for use with the Wikidata query service, apparently, but I cannot find any information about how this would be generated.  I'm actually surprised that this isn't auto-generated when the tool is created.  Is this connected to a database entry somewhere?  It's not clear to me how a user would be able to input a meaningful id.  And if this information has no meaning, then it has no value and is not useful as a search parameter.\n",
    "\n",
    "3.  translate_url: \"A link to the tool's translation interface.\"  I am honestly not sure what this means.  A link to translated documentation?  Does it duplicate \"available_ui_languages\"?  It is unclear, and thus not particularly useful."
   ]
  },
  {
   "cell_type": "markdown",
   "id": "1fdcd886-885f-454a-a0cf-a21825855025",
   "metadata": {},
   "source": [
    "## TASK SET 2"
   ]
  },
  {
   "cell_type": "code",
   "execution_count": null,
   "id": "db7e3d93-a663-407a-8ce6-436682355eff",
   "metadata": {},
   "outputs": [],
   "source": []
  },
  {
   "cell_type": "code",
   "execution_count": 5,
   "id": "e7ea97d5-e38e-447a-8c45-d26c1edf734d",
   "metadata": {},
   "outputs": [],
   "source": [
    "# TODO: Write a function that returns a dict where the keys are tool names, and the values are tuples:\n",
    "# {<tool name>: (<number of missing fields>, <days since the tool was last edited>)}.\n",
    "\n",
    "# Make a request to the /api/tools endpoint, gather the values from the \"results\" dict: for each entry, \"name\"  and \"modified_date\" (OR \"created_date\", if it's never been modified\n",
    "# Run it through a modified version of the the function that I wrote above and return the length of the dict to fill the <number of missing fields> bit\n",
    "# Push all of that info to an entry in the dict.\n",
    "\n",
    "# First I will rewrite the above function to serve as a callback function.  This time it will only return the length of the list, e.g. the number of empty fields.\n",
    "\n",
    "def count_missing_entries(entry):\n",
    "    empty_fields = []\n",
    "    for key in entry[\"annotations\"]:\n",
    "        if key == \"replaced_by\" and (entry[\"deprecated\"] == False or entry[\"annotations\"][\"deprecated\"] == False):\n",
    "            continue\n",
    "        elif (key in entry):\n",
    "            if (entry[key] == [] or entry[key] == None) and (entry[\"annotations\"][key] == [] or entry[\"annotations\"][key] == None):\n",
    "                        empty_fields.append(key)\n",
    "        elif entry[\"annotations\"][key] == [] or entry[\"annotations\"][key] == None:\n",
    "             empty_fields.append(key)\n",
    "    return len(empty_fields)\n",
    "    \n",
    "# The value of the \"modified_date\" and \"created_date\" fields does not appear to be in iso format, or at least datetime.date.fromisoformat doesn't want to recognize it\n",
    "# What a bummer!  So I'll write a function to make a proper date out of the value.  I only need the year, month and day.\n",
    "\n",
    "def parse_date(date):\n",
    "    slice_point = date.index('T')\n",
    "    year, month, day = date[0:slice_point].split('-')\n",
    "    return datetime.date(int(year), int(month), int(day))\n",
    "\n",
    "# I'll write another function to calculate the number of days elapsed between the current date and the value of the \"modified_date\" or the \"created_date\" field\n",
    "\n",
    "def calc_days_elapsed(entry_date): \n",
    "    current_date = datetime.date.today()\n",
    "    past_date = parse_date(entry_date)\n",
    "    return (current_date - past_date).days\n",
    "\n",
    "# Then I will write a cut-down version of the function to ensure that it will produce the results that I want using a test data set and those functions I just wrote.\n",
    "\n",
    "def build_tool_dict_test(target):\n",
    "    tool_entries = {}\n",
    "    data_set = target[\"results\"]\n",
    "    for entry in data_set:\n",
    "        # I want to calculate days elapsed based on the value of \"modified_date\" if it exists and the value of \"created_date\" if it does not.\n",
    "        date = entry[\"modified_date\"] or entry[\"created_date\"]\n",
    "        tool_entries[entry[\"name\"]] = (count_missing_entries(entry), calc_days_elapsed(date))\n",
    "    return tool_entries     "
   ]
  },
  {
   "cell_type": "markdown",
   "id": "570d5f42-a6bb-4e60-ab62-312f86ce1e9a",
   "metadata": {},
   "source": [
    "### Testing the function(s)\n",
    "\n",
    "I'll test the core functionality by taking information from the following dict, which is structured in the same way as the result of an actual fetch request to the /api/tools endpoint, and contains the data from \"mm_wikidata_todo\" and \"pywikibot\" plus a modified \"pywikibot\" entry that \n",
    "contains no modified date."
   ]
  },
  {
   "cell_type": "markdown",
   "id": "a3c0a104-c004-4618-82a7-47a8bfb6e83e",
   "metadata": {},
   "source": [
    "#### Mock data set"
   ]
  },
  {
   "cell_type": "code",
   "execution_count": 6,
   "id": "5d415459-d540-4432-add8-db4efe39cac9",
   "metadata": {
    "tags": []
   },
   "outputs": [],
   "source": [
    "mock_data = {\n",
    "    \"count\": 2702,\n",
    "    \"next\": \"https://toolhub.wikimedia.org/api/search/tools/?page=2\",\n",
    "    \"previous\": None,\n",
    "    \"results\": [\n",
    "{\n",
    "      \"name\": \"mm_wikidata_todo\",\n",
    "      \"title\": \"Wikidata Todo\",\n",
    "      \"description\": \"Shows you little things you can do on Wikidata.\",\n",
    "      \"url\": \"http://tools.wmflabs.org/wikidata-todo\",\n",
    "      \"keywords\": [\n",
    "        \"wikidata\",\n",
    "        \"task\"\n",
    "      ],\n",
    "      \"author\": [\n",
    "        {\n",
    "          \"name\": \"Magnus Manske\"\n",
    "        }\n",
    "      ],\n",
    "      \"repository\": \"https://bitbucket.org/magnusmanske/wikidata-todo\",\n",
    "      \"subtitle\": None,\n",
    "      \"openhub_id\": None,\n",
    "      \"url_alternates\": [],\n",
    "      \"bot_username\": None,\n",
    "      \"deprecated\": False,\n",
    "      \"replaced_by\": None,\n",
    "      \"experimental\": False,\n",
    "      \"for_wikis\": [],\n",
    "      \"icon\": None,\n",
    "      \"license\": None,\n",
    "      \"sponsor\": [],\n",
    "      \"available_ui_languages\": [],\n",
    "      \"technology_used\": [],\n",
    "      \"tool_type\": None,\n",
    "      \"api_url\": None,\n",
    "      \"developer_docs_url\": [],\n",
    "      \"user_docs_url\": [],\n",
    "      \"feedback_url\": [],\n",
    "      \"privacy_policy_url\": [],\n",
    "      \"translate_url\": None,\n",
    "      \"bugtracker_url\": None,\n",
    "      \"annotations\": {\n",
    "        \"wikidata_qid\": None,\n",
    "        \"deprecated\": False,\n",
    "        \"replaced_by\": None,\n",
    "        \"experimental\": False,\n",
    "        \"for_wikis\": [],\n",
    "        \"icon\": None,\n",
    "        \"available_ui_languages\": [\n",
    "          \"en\"\n",
    "        ],\n",
    "        \"tool_type\": \"web app\",\n",
    "        \"repository\": \"https://bitbucket.org/magnusmanske/wikidata-todo/src/master/\",\n",
    "        \"api_url\": None,\n",
    "        \"developer_docs_url\": [\n",
    "          {\n",
    "            \"url\": \"https://toolhub.mediawiki.com\",\n",
    "            \"language\": \"en\"\n",
    "          }\n",
    "        ],\n",
    "        \"user_docs_url\": [],\n",
    "        \"feedback_url\": [],\n",
    "        \"privacy_policy_url\": [],\n",
    "        \"translate_url\": None,\n",
    "        \"bugtracker_url\": \"https://bitbucket.org/magnusmanske/wikidata-todo/issues?status=new&status=open\"\n",
    "      },\n",
    "      \"_schema\": None,\n",
    "      \"_language\": \"en\",\n",
    "      \"origin\": \"crawler\",\n",
    "      \"created_by\": {\n",
    "        \"id\": 9,\n",
    "        \"username\": \"Toolhub\"\n",
    "      },\n",
    "      \"created_date\": \"2021-10-10T21:04:18.627185Z\",\n",
    "      \"modified_by\": {\n",
    "        \"id\": 428,\n",
    "        \"username\": \"Sabina.zaripova\"\n",
    "      },\n",
    "      \"modified_date\": \"2022-10-16T10:02:45.287384Z\"\n",
    "    },\n",
    "        \n",
    "    {\n",
    "  \"name\": \"pywikibot\",\n",
    "  \"title\": \"Pywikibot\",\n",
    "  \"description\": \"Python library and collection of scripts that automate work on MediaWiki sites\",\n",
    "  \"url\": \"https://www.mediawiki.org/wiki/Special:MyLanguage/Manual:Pywikibot\",\n",
    "  \"keywords\": [],\n",
    "  \"author\": [\n",
    "    {\n",
    "      \"name\": \"Pywikibot team\"\n",
    "    }\n",
    "  ],\n",
    "  \"repository\": \"https://gerrit.wikimedia.org/g/pywikibot/core\",\n",
    "  \"subtitle\": None,\n",
    "  \"openhub_id\": None,\n",
    "  \"url_alternates\": [],\n",
    "  \"bot_username\": None,\n",
    "  \"deprecated\": False,\n",
    "  \"replaced_by\": None,\n",
    "  \"experimental\": False,\n",
    "  \"for_wikis\": [\n",
    "    \"*\"\n",
    "  ],\n",
    "  \"icon\": \"https://commons.wikimedia.org/wiki/File:Pywikibot_MW_gear_icon.svg\",\n",
    "  \"license\": \"MIT\",\n",
    "  \"sponsor\": [],\n",
    "  \"available_ui_languages\": [],\n",
    "  \"technology_used\": [\n",
    "    \"python\"\n",
    "  ],\n",
    "  \"tool_type\": \"coding framework\",\n",
    "  \"api_url\": None,\n",
    "  \"developer_docs_url\": [\n",
    "    {\n",
    "      \"url\": \"https://www.mediawiki.org/wiki/Special:MyLanguage/Manual:Pywikibot/Development\",\n",
    "      \"language\": \"en\"\n",
    "    }\n",
    "  ],\n",
    "  \"user_docs_url\": [\n",
    "    {\n",
    "      \"language\": \"en\",\n",
    "      \"url\": \"https://www.mediawiki.org/wiki/Special:MyLanguage/Manual:Pywikibot\"\n",
    "    },\n",
    "    {\n",
    "      \"url\": \"https://doc.wikimedia.org/pywikibot/\",\n",
    "      \"language\": \"en\"\n",
    "    }\n",
    "  ],\n",
    "  \"feedback_url\": [],\n",
    "  \"privacy_policy_url\": [],\n",
    "  \"translate_url\": \"https://translatewiki.net/wiki/Translating:Pywikibot\",\n",
    "  \"bugtracker_url\": \"https://phabricator.wikimedia.org/tag/pywikibot/\",\n",
    "  \"annotations\": {\n",
    "    \"wikidata_qid\": None,\n",
    "    \"deprecated\": False,\n",
    "    \"replaced_by\": None,\n",
    "    \"experimental\": False,\n",
    "    \"for_wikis\": [],\n",
    "    \"icon\": None,\n",
    "    \"available_ui_languages\": [\n",
    "      \"en\"\n",
    "    ],\n",
    "    \"tool_type\": None,\n",
    "    \"repository\": None,\n",
    "    \"api_url\": None,\n",
    "    \"developer_docs_url\": [\n",
    "      {\n",
    "        \"url\": \"https://www.mediawiki.org/wiki/Special:MyLanguage/Manual:Pywikibot\",\n",
    "        \"language\": \"en\"\n",
    "      }\n",
    "    ],\n",
    "    \"user_docs_url\": [],\n",
    "    \"feedback_url\": [],\n",
    "    \"privacy_policy_url\": [],\n",
    "    \"translate_url\": None,\n",
    "    \"bugtracker_url\": None\n",
    "  },\n",
    "  \"_schema\": None,\n",
    "  \"_language\": \"en\",\n",
    "  \"origin\": \"api\",\n",
    "  \"created_by\": {\n",
    "    \"id\": 10,\n",
    "    \"username\": \"JJMC89\"\n",
    "  },\n",
    "  \"created_date\": \"2021-10-12T20:26:29.012245Z\",\n",
    "  \"modified_by\": {\n",
    "    \"id\": 3,\n",
    "    \"username\": \"BDavis (WMF)\"\n",
    "  },\n",
    "  \"modified_date\": \"2022-05-21T17:22:54.441791Z\"\n",
    "},\n",
    "            {\n",
    "  \"name\": \"pywikifake\",\n",
    "  \"title\": \"Pywikibot\",\n",
    "  \"description\": \"Python library and collection of scripts that automate work on MediaWiki sites\",\n",
    "  \"url\": \"https://www.mediawiki.org/wiki/Special:MyLanguage/Manual:Pywikibot\",\n",
    "  \"keywords\": [],\n",
    "  \"author\": [\n",
    "    {\n",
    "      \"name\": \"Pywikibot team\"\n",
    "    }\n",
    "  ],\n",
    "  \"repository\": \"https://gerrit.wikimedia.org/g/pywikibot/core\",\n",
    "  \"subtitle\": None,\n",
    "  \"openhub_id\": None,\n",
    "  \"url_alternates\": [],\n",
    "  \"bot_username\": None,\n",
    "  \"deprecated\": False,\n",
    "  \"replaced_by\": None,\n",
    "  \"experimental\": False,\n",
    "  \"for_wikis\": [\n",
    "    \"*\"\n",
    "  ],\n",
    "  \"icon\": \"https://commons.wikimedia.org/wiki/File:Pywikibot_MW_gear_icon.svg\",\n",
    "  \"license\": \"MIT\",\n",
    "  \"sponsor\": [],\n",
    "  \"available_ui_languages\": [],\n",
    "  \"technology_used\": [\n",
    "    \"python\"\n",
    "  ],\n",
    "  \"tool_type\": \"coding framework\",\n",
    "  \"api_url\": None,\n",
    "  \"developer_docs_url\": [\n",
    "    {\n",
    "      \"url\": \"https://www.mediawiki.org/wiki/Special:MyLanguage/Manual:Pywikibot/Development\",\n",
    "      \"language\": \"en\"\n",
    "    }\n",
    "  ],\n",
    "  \"user_docs_url\": [\n",
    "    {\n",
    "      \"language\": \"en\",\n",
    "      \"url\": \"https://www.mediawiki.org/wiki/Special:MyLanguage/Manual:Pywikibot\"\n",
    "    },\n",
    "    {\n",
    "      \"url\": \"https://doc.wikimedia.org/pywikibot/\",\n",
    "      \"language\": \"en\"\n",
    "    }\n",
    "  ],\n",
    "  \"feedback_url\": [],\n",
    "  \"privacy_policy_url\": [],\n",
    "  \"translate_url\": \"https://translatewiki.net/wiki/Translating:Pywikibot\",\n",
    "  \"bugtracker_url\": \"https://phabricator.wikimedia.org/tag/pywikibot/\",\n",
    "  \"annotations\": {\n",
    "    \"wikidata_qid\": None,\n",
    "    \"deprecated\": False,\n",
    "    \"replaced_by\": None,\n",
    "    \"experimental\": False,\n",
    "    \"for_wikis\": [],\n",
    "    \"icon\": None,\n",
    "    \"available_ui_languages\": [\n",
    "      \"en\"\n",
    "    ],\n",
    "    \"tool_type\": None,\n",
    "    \"repository\": None,\n",
    "    \"api_url\": None,\n",
    "    \"developer_docs_url\": [\n",
    "      {\n",
    "        \"url\": \"https://www.mediawiki.org/wiki/Special:MyLanguage/Manual:Pywikibot\",\n",
    "        \"language\": \"en\"\n",
    "      }\n",
    "    ],\n",
    "    \"user_docs_url\": [],\n",
    "    \"feedback_url\": [],\n",
    "    \"privacy_policy_url\": [],\n",
    "    \"translate_url\": None,\n",
    "    \"bugtracker_url\": None\n",
    "  },\n",
    "  \"_schema\": None,\n",
    "  \"_language\": \"en\",\n",
    "  \"origin\": \"api\",\n",
    "  \"created_by\": {\n",
    "    \"id\": 10,\n",
    "    \"username\": \"JJMC89\"\n",
    "  },\n",
    "  \"created_date\": \"2021-10-12T20:26:29.012245Z\",\n",
    "  \"modified_by\": None,\n",
    "  \"modified_date\": None\n",
    "}\n",
    "    ]\n",
    "}"
   ]
  },
  {
   "cell_type": "markdown",
   "id": "369a6406-742e-4c84-9a36-ed7e0384ae2a",
   "metadata": {},
   "source": [
    "#### Testing the subfunctions"
   ]
  },
  {
   "cell_type": "code",
   "execution_count": 7,
   "id": "f692e977-ac06-466f-b123-69ea060fda17",
   "metadata": {},
   "outputs": [
    {
     "name": "stdout",
     "output_type": "stream",
     "text": [
      "8\n"
     ]
    }
   ],
   "source": [
    "# I can test count_missing_entries() by taking the first result in the mock data set.  Its the entry for \"mm_wikidata_todo,\" which I know has 8 missing fields, so I would expect the function to return 8.\n",
    "\n",
    "task2_count_test = mock_data[\"results\"][0]\n",
    "\n",
    "print(count_missing_entries(task2_count_test))"
   ]
  },
  {
   "cell_type": "code",
   "execution_count": 8,
   "id": "3629ef8c-ac6b-45db-a990-ad5564737f42",
   "metadata": {},
   "outputs": [
    {
     "name": "stdout",
     "output_type": "stream",
     "text": [
      "2022-10-16T10:02:45.287384Z\n",
      "2022-10-16\n",
      "2022-10-16\n"
     ]
    }
   ],
   "source": [
    "# I can test parse_date() by passing the date string from the \"mm_wikidata_todo\" entry\n",
    "# The string is \"2022-10-16T10:02:45.287384Z\", so I would expect the result to be identical to the result of datetime.date(2022, 10, 16)\n",
    "\n",
    "task2_date_test = mock_data[\"results\"][0][\"modified_date\"]\n",
    "print(task2_date_test)\n",
    "print(datetime.date(2022, 10, 16))\n",
    "print(parse_date(task2_date_test))"
   ]
  },
  {
   "cell_type": "code",
   "execution_count": 9,
   "id": "b46f4241-442f-47ad-b670-281ab7b632d6",
   "metadata": {},
   "outputs": [
    {
     "name": "stdout",
     "output_type": "stream",
     "text": [
      "3\n"
     ]
    }
   ],
   "source": [
    "# I can test calc_days_elapsed() by passing the same date string and comparing it to the current date.\n",
    "# October 16th is not very long ago; at the time I write this (October 18th) I expect to see a return value of 2 (+ however many days it's been since the 18th)\n",
    "\n",
    "print(calc_days_elapsed(task2_date_test))"
   ]
  },
  {
   "cell_type": "markdown",
   "id": "9c75a9f6-0da3-4b95-80f9-e7aec3b662de",
   "metadata": {},
   "source": [
    "### Testing the full function\n",
    "\n",
    "Finally we put them all together and call `build_tool_dict_test()`\n",
    "\n",
    "I already know that \"mm_wikidata_todo\" has 8 missing fields, and \"pywikibot\" has 4.\n",
    "Looking at the dates, I can see that \"mm_wikidata_todo\" was last modified on October 16, 2022.  \"pywikibot\" was modified on May 21, 2022 and created on October 12, 2021.  (The creation date is what should be referenced in the third entry of the list, as I have deliberately removed the value of \"modified_date\".)\n",
    "\n",
    "Therefore, based on today being October 18th, I would expect `build_tool_dict_test(mock_data)` to return the following:\n",
    "```\n",
    "{\n",
    "    'mm_wikidata_todo': (8, 2),\n",
    "    'pywikibot': (4, 150),\n",
    "    'pywikifake': (4, 371)\n",
    " }\n",
    "```\n",
    "\n",
    "The estimated dates will be a little off by the time you see this!  Add however many days it's been since the 18th!"
   ]
  },
  {
   "cell_type": "code",
   "execution_count": 10,
   "id": "ede12362-9b86-4c75-83ef-c0b5260fc967",
   "metadata": {},
   "outputs": [
    {
     "data": {
      "text/plain": [
       "{'mm_wikidata_todo': (8, 3), 'pywikibot': (4, 151), 'pywikifake': (4, 372)}"
      ]
     },
     "execution_count": 10,
     "metadata": {},
     "output_type": "execute_result"
    }
   ],
   "source": [
    "build_tool_dict_test(mock_data)"
   ]
  },
  {
   "cell_type": "code",
   "execution_count": 11,
   "id": "f97ab7c0-1a8d-465b-aeee-7e873d61efce",
   "metadata": {},
   "outputs": [],
   "source": [
    "# As I am satisfied that my function is working properly, I can incorporate the actual fetch request.\n",
    "\n",
    "def build_tool_dict():\n",
    "    url = f'{TOOLS_API_ENDPOINT}'\n",
    "    response = requests.get(url, headers=headers)\n",
    "    if response.status_code == 200:\n",
    "        api_response = response.json()\n",
    "        tools = api_response[\"results\"]\n",
    "        while api_response[\"next\"]:\n",
    "            api_response = requests.get(api_response[\"next\"], headers=headers).json()\n",
    "            tools.extend(api_response[\"results\"])\n",
    "        tool_entries = {}\n",
    "        for entry in tools:\n",
    "            date = entry[\"modified_date\"] or entry[\"created_date\"]\n",
    "            tool_entries[entry[\"name\"]] = (count_missing_entries(entry), calc_days_elapsed(date))\n",
    "        return tool_entries\n",
    "    else:\n",
    "        print(response.status_code)\n",
    "\n",
    "# I tested this function by setting the return value to len(tool_entries) and received a value of 2702, which is equal to the maximum count of documents that I received while playing with the API\n",
    "# Therefore, I am confident that the function is functioning.  I wouldn't want to try to print the results of this one!"
   ]
  },
  {
   "cell_type": "markdown",
   "id": "c1ff6bff-7cd3-49bf-8f31-95f0cbc1ed02",
   "metadata": {},
   "source": [
    "### TODO: Visualize this data in a meaningful way. \n",
    "\n",
    "I decided that I would like to create a visualization to represent how many tools are missing fields: as in, how many tools are missing just 1 field, or 2 fields, etc.  Are many tools missing fields?\n",
    "\n",
    "For that, I decided to iterate over the results of `build_tool_dict()` and determine how many times certain values appear in `<number of missing fields>`\n",
    "\n",
    "My first step was to build a function that I could test, using the tiny data set and build_tool_dict_test()\n",
    "\n",
    "I want the function to return the data in a sorted dictionary, from fewest tools missing to most tools missing."
   ]
  },
  {
   "cell_type": "code",
   "execution_count": 12,
   "id": "ba7f5c83-5fb4-49f6-b9e8-53d51933c0fb",
   "metadata": {},
   "outputs": [],
   "source": [
    "def convert_to_sorted(data):\n",
    "    data_plot = {}\n",
    "    for key, value in data.items():\n",
    "        new_key = value[0]\n",
    "        if new_key in data_plot:\n",
    "            data_plot[new_key] += 1\n",
    "        else:\n",
    "            data_plot[new_key] = 1\n",
    "    return dict(sorted(data_plot.items()))"
   ]
  },
  {
   "cell_type": "markdown",
   "id": "2e280588-714a-456b-8d95-59b357c4eb1c",
   "metadata": {},
   "source": [
    "I already know that `build_tool_dict_test(mock_data)` will return the following:\n",
    "```\n",
    "{'mm_wikidata_todo': (8, 2), 'pywikibot': (4, 150), 'pywikifake': (4, 371)}\n",
    "```\n",
    "\n",
    "One tool is missing eight items, and two tools are missing 4 items.  Therefore I would expect that passing that dict into `convert_to_sorted()` would give me the following result: `{4: 2, 8: 1}`\n",
    "\n",
    "I also wanted a second test, so wrote another dummy dict."
   ]
  },
  {
   "cell_type": "code",
   "execution_count": 13,
   "id": "b300b3de-181e-4e0f-933d-b7af421e9eb9",
   "metadata": {},
   "outputs": [
    {
     "name": "stdout",
     "output_type": "stream",
     "text": [
      "{4: 2, 8: 1}\n",
      "{3: 1, 4: 4, 8: 1}\n"
     ]
    }
   ],
   "source": [
    "test1 = {'mm_wikidata_todo': (8, 2), 'pywikibot': (4, 150), 'pywikifake': (4, 371)}\n",
    "test2 = {'mm_wikidata_todo': (8, 2), 'pywikibot': (4, 150), 'pywikifake': (4, 371), 'mm_wikidata_todo2': (3, 2), 'pywikibot2': (4, 150), 'pywikifake2': (4, 371)}\n",
    "print(convert_to_sorted(test1))  # I expect to see {4: 2, 8: 1}\n",
    "print(convert_to_sorted(test2)) # I expect to see {3: 1, 4: 4, 8: 1}\n"
   ]
  },
  {
   "cell_type": "code",
   "execution_count": 14,
   "id": "7115e3b9-e3de-4527-8bcd-beb089712142",
   "metadata": {},
   "outputs": [
    {
     "name": "stdout",
     "output_type": "stream",
     "text": [
      "{0: 1, 1: 1, 3: 7, 4: 6, 5: 10, 6: 23, 7: 32, 8: 69, 9: 89, 10: 109, 11: 759, 12: 450, 13: 1146}\n"
     ]
    }
   ],
   "source": [
    "# Let's tie it all together with the output from build_tool_dict()\n",
    "\n",
    "entries = build_tool_dict()\n",
    "plottable_data = convert_to_sorted(entries)\n",
    "print(plottable_data)"
   ]
  },
  {
   "cell_type": "code",
   "execution_count": 15,
   "id": "b1c47142-d2de-4a6f-9c40-2531ea11e549",
   "metadata": {},
   "outputs": [
    {
     "data": {
      "text/plain": [
       "Text(0, 0.5, 'Number of tools')"
      ]
     },
     "execution_count": 15,
     "metadata": {},
     "output_type": "execute_result"
    },
    {
     "data": {
      "image/png": "[encoded data removed]",
      "text/plain": [
       "<Figure size 640x480 with 1 Axes>"
      ]
     },
     "metadata": {},
     "output_type": "display_data"
    }
   ],
   "source": [
    "# Fabulous!  Now I can finally visualize the data!  \n",
    "\n",
    "plt.bar(plottable_data.keys(), plottable_data.values())\n",
    "plt.xlabel('Number of missing values')\n",
    "plt.ylabel('Number of tools')\n"
   ]
  },
  {
   "cell_type": "markdown",
   "id": "a79ba20b-474c-452c-92bf-363343d1aecf",
   "metadata": {},
   "source": [
    "So there are a few tools that are missing a few values, and a lot of tools that are missing a **lot** of values.  In fact, of the 16 values in the \"Annotations\" set, the majority of tools are missing almost all of them.  I'm not sure how meaningful that is, except that it does suggest that there's a lot of work to be done! \n",
    "\n",
    "I'm far more interested in the second part of the task:  finding and visualizing which fields are most frequently missing.\n",
    "\n",
    "My objective is to take the data from Toolhub and return a dict with the following structure: `{<toolname>: <# of times that it's missing>}`\n",
    "My convert_to_sorted() function will be able to manage this; I just need to write new functions that incorporate both it and aspects of list_missing_fields() and build_tool_dict()"
   ]
  },
  {
   "cell_type": "markdown",
   "id": "c4fa087b-4209-4bf1-ab40-956e092d3522",
   "metadata": {},
   "source": [
    "### TODO: Which fields are most frequently missing? "
   ]
  },
  {
   "cell_type": "code",
   "execution_count": 16,
   "id": "deb2537f-dfed-4f80-8a11-84caf3ea6041",
   "metadata": {},
   "outputs": [
    {
     "name": "stdout",
     "output_type": "stream",
     "text": [
      "['wikidata_qid', 'for_wikis', 'icon', 'api_url', 'user_docs_url', 'feedback_url', 'privacy_policy_url', 'translate_url']\n",
      "['wikidata_qid', 'api_url', 'feedback_url', 'privacy_policy_url']\n",
      "['wikidata_qid', 'api_url', 'feedback_url', 'privacy_policy_url']\n"
     ]
    }
   ],
   "source": [
    "# Let's start with writing some functions that will work with my mock data set.  Or, rather, modifying the functions I already wrote.\n",
    "# I can grab items from the mock data dict to assist with testing\n",
    "\n",
    "todo_test = mock_data[\"results\"][0]\n",
    "pywiki_test = mock_data[\"results\"][1]\n",
    "pyfake_test = mock_data[\"results\"][2]\n",
    "\n",
    "def list_fields_from_item(item):\n",
    "    empty_fields = []\n",
    "    for key in item[\"annotations\"]:\n",
    "        if key == \"replaced_by\" and (item[\"deprecated\"] == False or item[\"annotations\"][\"deprecated\"] == False):\n",
    "            continue\n",
    "        elif (key in item):\n",
    "            if (item[key] == [] or item[key] == None) and (item[\"annotations\"][key] == [] or item[\"annotations\"][key] == None):\n",
    "                        empty_fields.append(key)\n",
    "        elif item[\"annotations\"][key] == [] or item[\"annotations\"][key] == None:\n",
    "            empty_fields.append(key)\n",
    "    return empty_fields\n",
    "\n",
    "print(list_fields_from_item(todo_test)) # should print [ 'wikidata_qid', 'for_wikis', 'icon', 'api_url', 'developer_docs_url', 'user_docs_url', 'feedback_url', 'privacy_policy_url', 'translate_url' ]\n",
    "print(list_fields_from_item(pywiki_test)) # should print ['wikidata_qid', 'api_url', 'feedback_url', 'privacy_policy_url']\n",
    "print(list_fields_from_item(pyfake_test))  # should print ['wikidata_qid', 'api_url', 'feedback_url', 'privacy_policy_url']"
   ]
  },
  {
   "cell_type": "code",
   "execution_count": 17,
   "id": "3cb46df7-0b16-453d-a493-a3e403329d1b",
   "metadata": {},
   "outputs": [
    {
     "name": "stdout",
     "output_type": "stream",
     "text": [
      "{'mm_wikidata_todo': ['wikidata_qid', 'for_wikis', 'icon', 'api_url', 'user_docs_url', 'feedback_url', 'privacy_policy_url', 'translate_url'], 'pywikibot': ['wikidata_qid', 'api_url', 'feedback_url', 'privacy_policy_url'], 'pywikifake': ['wikidata_qid', 'api_url', 'feedback_url', 'privacy_policy_url']}\n"
     ]
    }
   ],
   "source": [
    "def compile_missing(data_set):\n",
    "    tool_entries = {}\n",
    "    for entry in data_set:\n",
    "        tool_entries[entry[\"name\"]] = list_fields_from_item(entry)\n",
    "    return tool_entries   \n",
    "\n",
    "new_dataset = compile_missing(mock_data[\"results\"])\n",
    "print(new_dataset)\n",
    "\n",
    "# I would expect to receive the following:\n",
    "# {\n",
    "#    'mm_wikidata_todo': ['wikidata_qid', 'for_wikis', 'icon', 'api_url', 'user_docs_url', 'feedback_url', 'privacy_policy_url', 'translate_url'],\n",
    "#    'pywikibot': ['wikidata_qid', 'api_url', 'feedback_url', 'privacy_policy_url'],\n",
    "#    'pywikifake': ['wikidata_qid', 'api_url', 'feedback_url', 'privacy_policy_url']\n",
    "# }\n"
   ]
  },
  {
   "cell_type": "code",
   "execution_count": 18,
   "id": "01620154-0fec-4394-9775-56a1fa4fb9a5",
   "metadata": {},
   "outputs": [
    {
     "name": "stdout",
     "output_type": "stream",
     "text": [
      "{'Leo': 2, 'Mark': 10, 'Nathaniel': 11, 'Natalie': 14, 'Alex': 15}\n"
     ]
    }
   ],
   "source": [
    "# This time I would like to sort the plottable data by the values and not the keys, so that the results will be ordered from the least-often-missing value to the most-often-missing.\n",
    "# So here's a function that will do that:\n",
    "\n",
    "def sort_by_value(dataset):\n",
    "    return dict(sorted(dataset.items(), key=lambda x:x[1]))\n",
    "\n",
    "# I'll quickly test that, too.\n",
    "\n",
    "sample_ages = {'Mark': 10, 'Nathaniel': 11, 'Alex': 15, 'Natalie': 14, 'Leo': 2}\n",
    "\n",
    "print(sort_by_value(sample_ages))  # Would expect {'Leo': 2, 'Mark': 10, 'Nathaniel': 11, 'Natalie': 14, 'Alex': 15}"
   ]
  },
  {
   "cell_type": "code",
   "execution_count": 19,
   "id": "a45df34e-9755-470d-bcdf-750519863f78",
   "metadata": {},
   "outputs": [
    {
     "name": "stdout",
     "output_type": "stream",
     "text": [
      "{'for_wikis': 1, 'icon': 1, 'user_docs_url': 1, 'translate_url': 1, 'wikidata_qid': 3, 'api_url': 3, 'feedback_url': 3, 'privacy_policy_url': 3}\n"
     ]
    }
   ],
   "source": [
    "# And finally, the function that will iterate through the dict that I just created and tally up the times that the tool names appear.\n",
    "# The results will pass through the sorting function, which will sort them from \"least often missing\" to \"most often missing.\"\n",
    "\n",
    "def tally_missing_fields(data):\n",
    "    data_plot = {}\n",
    "    for key, value in data.items():\n",
    "        for entry in value:\n",
    "            new_key = entry\n",
    "            if new_key in data_plot:\n",
    "                data_plot[new_key] += 1\n",
    "            else:\n",
    "                data_plot[new_key] = 1\n",
    "    return sort_by_value(data_plot)\n",
    "\n",
    "print(tally_missing_fields(new_dataset))\n",
    "\n",
    "# I'm using the results I got earlier.  Based on those results, I would expect this function call to return the following:\n",
    "# { 'for_wikis': 1, 'icon': 1, 'user_docs_url': 1, 'translate_url': 1, 'wikidata_qid': 3, 'api_url': 3, 'feedback_url': 3, 'privacy_policy_url': 3 }"
   ]
  },
  {
   "cell_type": "code",
   "execution_count": 20,
   "id": "8f9c2e39-33ca-4e4d-9bd6-65ddeca60b44",
   "metadata": {},
   "outputs": [
    {
     "name": "stdout",
     "output_type": "stream",
     "text": [
      "{'tool_type': 1670, 'repository': 1894, 'user_docs_url': 1958, 'available_ui_languages': 2364, 'bugtracker_url': 2419, 'developer_docs_url': 2586, 'for_wikis': 2636, 'api_url': 2647, 'feedback_url': 2653, 'icon': 2669, 'wikidata_qid': 2679, 'translate_url': 2681, 'privacy_policy_url': 2692}\n"
     ]
    }
   ],
   "source": [
    "# And, finally, tie them all together with the fetch request.  \n",
    "\n",
    "def build_missing_dict():\n",
    "    url = f'{TOOLS_API_ENDPOINT}'\n",
    "    response = requests.get(url, headers=headers)\n",
    "    if response.status_code == 200:\n",
    "        api_response = response.json()\n",
    "        tools = api_response[\"results\"]\n",
    "        while api_response[\"next\"]:\n",
    "            api_response = requests.get(api_response[\"next\"], headers=headers).json()\n",
    "            tools.extend(api_response[\"results\"])\n",
    "        missing_entries = compile_missing(tools)\n",
    "        missing_dict = tally_missing_fields(missing_entries)\n",
    "        return missing_dict\n",
    "    else:\n",
    "        print(response.status_code)\n",
    "        \n",
    "missing_tool_dict = build_missing_dict()\n",
    "print(missing_tool_dict)"
   ]
  },
  {
   "cell_type": "code",
   "execution_count": 21,
   "id": "b2224553-5a42-4a62-96d6-e680b35acfb4",
   "metadata": {},
   "outputs": [
    {
     "data": {
      "text/plain": [
       "Text(0.5, 1.0, 'Fields most often missing a value')"
      ]
     },
     "execution_count": 21,
     "metadata": {},
     "output_type": "execute_result"
    },
    {
     "data": {
      "image/png": "[encoded data removed]",
      "text/plain": [
       "<Figure size 2000x500 with 1 Axes>"
      ]
     },
     "metadata": {},
     "output_type": "display_data"
    }
   ],
   "source": [
    "plt.figure(figsize=(20, 5))\n",
    "plt.ylim((1500,2800))\n",
    "plt.bar(missing_tool_dict.keys(), missing_tool_dict.values(), width=0.4)\n",
    "plt.xlabel('Missing fields')\n",
    "plt.ylabel('Number of tools that lack a value')\n",
    "plt.title('Fields most often missing a value')"
   ]
  },
  {
   "cell_type": "markdown",
   "id": "d24598d7-2434-40f1-bf7d-f2d51a3975d4",
   "metadata": {},
   "source": [
    "So what we have here is a very long-winded way of saying that the most missing values are:  \n",
    "\n",
    "1. privacy_policy_url (2692 out of 2702 tools)\n",
    "2. translate_url (2681)\n",
    "3. wikidata_qid (2679)\n",
    "4. icon (2669)\n",
    "5. feedback_url (2653)\n",
    "6. api_url (2647)\n",
    "7. for_wikis (2636)\n",
    "8. developer_docs_url (2586)\n",
    "9. bugtracker_url (2419)\n",
    "10. available_ui_languages (2364)\n",
    "11. user_docs_url (1958)\n",
    "12. repository (1893)\n",
    "13. tool_type (1670)\n",
    "\n",
    "In other words, of the fields in the \"Annotations\" set, \"deprecated\" and \"experimental\" **always** have values (no doubt because they are automatically given a value of `False` when the tool is created), \"replaced_by\" was stripped out by my own function, and the rest almost **never** have values.  Yikes!"
   ]
  },
  {
   "cell_type": "markdown",
   "id": "da7f16e0-8d5c-4cb4-ad11-02038398d351",
   "metadata": {},
   "source": [
    "Another way to find tools with missing info is via the \"missing\" facet in search results. \n",
    "\n",
    "* This link will take you to a page with search results corresponding to a search for \"all the tools\" https://toolhub.wikimedia.org/search?ordering=-score&page=1&page_size=12\n",
    "* Observe the left side of the screen, where there is a list of search facets. The first is called \"Tool type\", and you can see that there are 1600+ tools missing this info\n",
    "* This \"missing\" facet can be retrieved from the `/api/search/tools` endpoint. Go back to the [API docs](https://toolhub.wikimedia.org/api-docs), and play around with this endpoint until you feel you understand it. You can also perform various searches in Toolhub, each time observing the results you get, and the query parameters in your browser's search bar. Similarly, if you are comfortable with your browser's developer tools, you can use these to observe the HTTP requests and responses."
   ]
  },
  {
   "cell_type": "markdown",
   "id": "c5df54e9-c0e7-4ba1-ba61-ee709df1bbba",
   "metadata": {},
   "source": [
    "## Task set 3"
   ]
  },
  {
   "cell_type": "code",
   "execution_count": 22,
   "id": "b3df2b3f-3f22-414e-a67d-0e530ab203f0",
   "metadata": {},
   "outputs": [],
   "source": [
    "# TODO: Just as in task set 1, write a function that takes a tool name,\n",
    "# and returns all the missing fields as a list. However this time,\n",
    "# use the /api/search/tools endpoint.\n",
    "\n",
    "# According to you, which of the two endpoints is most suitable\n",
    "# for retrieving missing records, and why? "
   ]
  },
  {
   "cell_type": "markdown",
   "id": "e49a9d62-86e7-4f2a-9414-30e4dc308e69",
   "metadata": {},
   "source": [
    "## Implementation details\n",
    "\n",
    "The web application will present users with small tasks, such as \"This tool is missing a link to its source code, can you find one?\" These tasks will be sourced from a task queue, in which the tasks are ideally ordered from most to least \"important\".\n",
    "\n",
    "**TODO**: Reflect on the following questions, and try to answer them to the best of your ability. These are open-ended questions and there's likely more than one good way to do things. Explaining your reasoning and discussing the pros and cons of different approaches is more important than arriving at the \"right\" answer.\n",
    "\n",
    "### Task set 4\n",
    "\n",
    "1. How should we define \"important\"? In other words, according to what criteria do you think priority in the task queue should be established?\n",
    "2. The user should have the option to skip a task and move on to the next one. A reason for skipping could be that the user tried to find the requested information, but failed. Do you think we should gather this information, for instance by having the user check a box indicating their \"skip reason\" before being able to click skip? What other possible skip reasons could you think of. Could this information be useful when deciding which tasks to show to which users, when to show a given task again, etc.?\n",
    "3. If more than one user is connected to the application and working on tasks at the same time, how would you make sure they are not presented with the same tasks?"
   ]
  },
  {
   "cell_type": "markdown",
   "id": "bc16b7ab-197c-4d1c-9f42-af75299b9b0e",
   "metadata": {},
   "source": [
    "3. The first thing that comes to my mind is "
   ]
  }
 ],
 "metadata": {
  "kernelspec": {
   "display_name": "Python 3 (ipykernel)",
   "language": "python",
   "name": "python3"
  },
  "language_info": {
   "codemirror_mode": {
    "name": "ipython",
    "version": 3
   },
   "file_extension": ".py",
   "mimetype": "text/x-python",
   "name": "python",
   "nbconvert_exporter": "python",
   "pygments_lexer": "ipython3",
   "version": "3.10.6"
  }
 },
 "nbformat": 4,
 "nbformat_minor": 5
}
